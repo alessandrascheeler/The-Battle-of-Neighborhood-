The Battle of Neighborhoods Notebook - Week 2 

Find the best place to stay in New York City¶


Table of contents¶
Introduction: Business Problem
Data
Methodology
Analysis
4.1 Chart: Average Price per Person Neighborhoods
4.2 Chart: Apartments Total by Neighborhood Chart
4.3 Chart: Crimes Summary by Neighborhood
4.4 Map: Airbnb Neighborhoods Prices per Person Map
4.5 Map: Accommodations Detailed Info Map
4.6 Map: Crimes Cluster Map
4.7 Map: Summary Crimes by Neighborhoods Map
4.8 Foursquare API Neighborhoods Analysis
4.9 Cluster Analysis - Map and Details
Results and Discussion
Conclusion



1. Introduction: Business Problem ¶

Background¶

    According the latest NYC&Company release New York City welcomed about 65.2 million tourists in 2018 year - 51.6 million domestic and 13.5 million international visitors. And these numbers are continuously increasing from year to year - https://en.wikipedia.org/wiki/Tourism_in_New_York_City. 
    New York City has the largest selection of lodging choices in the country – from the hostels to the luxury hotels. The prices vary from 100$ till several thousand dollars with average price 292 USD per night. 
    The Hotel Occupancy rate is also high – in 2018 year it was 88% - https://assets.simpleviewinc.com/simpleview/image/upload/v1/clients/newyorkcity/FYI_Hotel_reports_February_2019_8607015b-b32a-4c7f-9fbd-84cd2a93cbe6.pdf 
    Visitors prefer short stays that are often over weekends - averaging 2.4 nights - https://aka.nyc/content/uploads/2017/12/new_york_city_travel_and_tourism_trend_report_2017.pdf 
Problem description¶
    In New York City there are almost 300 hotels with over 75,000 hotel rooms and Airbnb has more than 50,000 apartment listings in New York City in 2018 year - it can be hard to find the right fit or know how much you will get with your money. 
    In this project we will try to find the most optimal borough in Manhattan where a tourist can rent an accommodation via Airbnb service and have a pleasant stay in NYC and a possibility to attend the most visited attractions like Central Park, Times Square and so on.
Target Audience¶
    This investigation would interest New York City's visitors who prefers short stays (from 1 night) and wants to select the best neighborhoods in Manhattan, New York.
Success Criteria¶
    The success criteria of this project will be a recommendation with the set of apartments clusters have the best score calculated based on
Accommodation price with fees;
Location of the accommodation;
Venues in radius of 1000 meters from the accommodation;
Crime rate in radius of 100 meters from the accommodation.



2. Data ¶

In our investigation we will use the free and public available datasets. 
We will try to evaluate available Airbnb 2019-year accommodations on Manhattan, New York and define the most reasonable apartments sets(clusters) for the visitors. 

Based on definition of our problem, we suppose that factors that will help us are:
accommodation prices average by neighborhood;
number of tourist attractions near the accommodation;
number of crimes nearby the accommodation.
Following data sources is needed for our project:
New York City apartment listing from the Inside Airbnb site - http://data.insideairbnb.com/united-states/ny/new-york-city/2019-12-04/data/listings.csv.gz
New York Neighborhoods Tabulation Areas - https://data.cityofnewyork.us/api/geospatial/cpf4-rkhq?method=export&format=GeoJSON
Foursquare API to extract data about venues - food places, museums, galleries, shopping centers, sightseeing attractions, concert halls and so on
New York Crime data for 2019 year - https://data.cityofnewyork.us/api/views/5uac-w243/rows.csv?accessType=DOWNLOAD
